{
 "cells": [
  {
   "cell_type": "markdown",
   "metadata": {},
   "source": [
    "# Self-Driving Car Engineer Nanodegree\n",
    "\n",
    "## Deep Learning\n",
    "\n",
    "## Project: Build a Traffic Sign Recognition Classifier\n",
    "\n",
    "In this notebook, a template is provided for you to implement your functionality in stages, which is required to successfully complete this project. If additional code is required that cannot be included in the notebook, be sure that the Python code is successfully imported and included in your submission if necessary. \n",
    "\n",
    "> **Note**: Once you have completed all of the code implementations, you need to finalize your work by exporting the iPython Notebook as an HTML document. Before exporting the notebook to html, all of the code cells need to have been run so that reviewers can see the final implementation and output. You can then export the notebook by using the menu above and navigating to  \\n\",\n",
    "    \"**File -> Download as -> HTML (.html)**. Include the finished document along with this notebook as your submission. \n",
    "\n",
    "In addition to implementing code, there is a writeup to complete. The writeup should be completed in a separate file, which can be either a markdown file or a pdf document. There is a [write up template](https://github.com/udacity/CarND-Traffic-Sign-Classifier-Project/blob/master/writeup_template.md) that can be used to guide the writing process. Completing the code template and writeup template will cover all of the [rubric points](https://review.udacity.com/#!/rubrics/481/view) for this project.\n",
    "\n",
    "The [rubric](https://review.udacity.com/#!/rubrics/481/view) contains \"Stand Out Suggestions\" for enhancing the project beyond the minimum requirements. The stand out suggestions are optional. If you decide to pursue the \"stand out suggestions\", you can include the code in this Ipython notebook and also discuss the results in the writeup file.\n",
    "\n",
    "\n",
    ">**Note:** Code and Markdown cells can be executed using the **Shift + Enter** keyboard shortcut. In addition, Markdown cells can be edited by typically double-clicking the cell to enter edit mode."
   ]
  },
  {
   "cell_type": "markdown",
   "metadata": {},
   "source": [
    "---\n",
    "## Step 0: Load The Data"
   ]
  },
  {
   "cell_type": "code",
   "execution_count": 1,
   "metadata": {},
   "outputs": [],
   "source": [
    "# Load pickled data\n",
    "import pickle\n",
    "\n",
    "# TODO: Fill this in based on where you saved the training and testing data\n",
    "\n",
    "training_file = './traffic-signs-data/train.p'\n",
    "validation_file = './traffic-signs-data/valid.p'\n",
    "testing_file = './traffic-signs-data/test.p'\n",
    "\n",
    "with open(training_file, mode='rb') as f:\n",
    "    train = pickle.load(f)\n",
    "with open(validation_file, mode='rb') as f:\n",
    "    valid = pickle.load(f)\n",
    "with open(testing_file, mode='rb') as f:\n",
    "    test = pickle.load(f)\n",
    "    \n",
    "X_train, y_train = train['features'], train['labels']\n",
    "X_valid, y_valid = valid['features'], valid['labels']\n",
    "X_test, y_test = test['features'], test['labels']"
   ]
  },
  {
   "cell_type": "markdown",
   "metadata": {},
   "source": [
    "---\n",
    "\n",
    "## Step 1: Dataset Summary & Exploration\n",
    "\n",
    "The pickled data is a dictionary with 4 key/value pairs:\n",
    "\n",
    "- `'features'` is a 4D array containing raw pixel data of the traffic sign images, (num examples, width, height, channels).\n",
    "- `'labels'` is a 1D array containing the label/class id of the traffic sign. The file `signnames.csv` contains id -> name mappings for each id.\n",
    "- `'sizes'` is a list containing tuples, (width, height) representing the original width and height the image.\n",
    "- `'coords'` is a list containing tuples, (x1, y1, x2, y2) representing coordinates of a bounding box around the sign in the image. **THESE COORDINATES ASSUME THE ORIGINAL IMAGE. THE PICKLED DATA CONTAINS RESIZED VERSIONS (32 by 32) OF THESE IMAGES**\n",
    "\n",
    "Complete the basic data summary below. Use python, numpy and/or pandas methods to calculate the data summary rather than hard coding the results. For example, the [pandas shape method](http://pandas.pydata.org/pandas-docs/stable/generated/pandas.DataFrame.shape.html) might be useful for calculating some of the summary results. "
   ]
  },
  {
   "cell_type": "markdown",
   "metadata": {},
   "source": [
    "### Provide a Basic Summary of the Data Set Using Python, Numpy and/or Pandas"
   ]
  },
  {
   "cell_type": "code",
   "execution_count": 2,
   "metadata": {},
   "outputs": [
    {
     "name": "stdout",
     "output_type": "stream",
     "text": [
      "Number of training examples = 34799\n",
      "Number of training examples = 4410\n",
      "Number of testing examples = 12630\n",
      "Image data shape = (32, 32, 3)\n",
      "Number of classes = 43\n"
     ]
    }
   ],
   "source": [
    "### Replace each question mark with the appropriate value. \n",
    "### Use python, pandas or numpy methods rather than hard coding the results\n",
    "\n",
    "# TODO: Number of training examples\n",
    "n_train = X_train.shape[0]\n",
    "\n",
    "# TODO: Number of validation examples\n",
    "n_validation = X_valid.shape[0]\n",
    "\n",
    "# TODO: Number of testing examples.\n",
    "n_test = X_test.shape[0]\n",
    "\n",
    "# TODO: What's the shape of an traffic sign image?\n",
    "image_shape = X_train[1].shape\n",
    "\n",
    "# TODO: How many unique classes/labels there are in the dataset.\n",
    "n_classes = max(y_test)+1\n",
    "\n",
    "print(\"Number of training examples =\", n_train)\n",
    "print(\"Number of training examples =\", n_validation)\n",
    "print(\"Number of testing examples =\", n_test)\n",
    "print(\"Image data shape =\", image_shape)\n",
    "print(\"Number of classes =\", n_classes)"
   ]
  },
  {
   "cell_type": "markdown",
   "metadata": {},
   "source": [
    "### Include an exploratory visualization of the dataset"
   ]
  },
  {
   "cell_type": "markdown",
   "metadata": {},
   "source": [
    "Visualize the German Traffic Signs Dataset using the pickled file(s). This is open ended, suggestions include: plotting traffic sign images, plotting the count of each sign, etc. \n",
    "\n",
    "The [Matplotlib](http://matplotlib.org/) [examples](http://matplotlib.org/examples/index.html) and [gallery](http://matplotlib.org/gallery.html) pages are a great resource for doing visualizations in Python.\n",
    "\n",
    "**NOTE:** It's recommended you start with something simple first. If you wish to do more, come back to it after you've completed the rest of the sections. It can be interesting to look at the distribution of classes in the training, validation and test set. Is the distribution the same? Are there more examples of some classes than others?"
   ]
  },
  {
   "cell_type": "code",
   "execution_count": 3,
   "metadata": {},
   "outputs": [
    {
     "name": "stdout",
     "output_type": "stream",
     "text": [
      "(34799, 32, 32, 1)\n",
      "(4410, 32, 32, 1)\n",
      "(12630, 32, 32, 1)\n"
     ]
    },
    {
     "data": {
      "text/plain": [
       "<matplotlib.figure.Figure at 0x2273dafdb38>"
      ]
     },
     "metadata": {},
     "output_type": "display_data"
    },
    {
     "data": {
      "text/plain": [
       "<matplotlib.figure.Figure at 0x2273e47b588>"
      ]
     },
     "metadata": {},
     "output_type": "display_data"
    }
   ],
   "source": [
    "### Data exploration visualization code goes here.\n",
    "### Feel free to use as many code cells as needed.\n",
    "import matplotlib.pyplot as plt\n",
    "import numpy as np\n",
    "\n",
    "# Normalization and grayscale flags:\n",
    "\n",
    "gray = True\n",
    "normalize = True\n",
    "\n",
    "if (gray):\n",
    "    dim = 1 # dimension required by the nn\n",
    "    X_train_tmp = np.zeros((X_train.shape[0], X_train.shape[1], X_train.shape[2]))\n",
    "    X_valid_tmp = np.zeros((X_valid.shape[0], X_valid.shape[1], X_valid.shape[2]))\n",
    "    X_test_tmp = np.zeros((X_test.shape[0], X_test.shape[1], X_test.shape[2]))\n",
    "\n",
    "    # Converting the images to grayscale\n",
    "    for i in range(X_train.shape[0]):\n",
    "        X_train_tmp[i,:,:] = np.average(X_train[i,:,:,:], weights=[0.299, 0.587, 0.114], axis=2)\n",
    "    for i in range(X_valid.shape[0]):\n",
    "        X_valid_tmp[i,:,:] = np.average(X_valid[i,:,:,:], weights=[0.299, 0.587, 0.114], axis=2)\n",
    "    for i in range(X_test.shape[0]):\n",
    "        X_test_tmp[i,:,:] = np.average(X_test[i,:,:,:], weights=[0.299, 0.587, 0.114], axis=2)\n",
    "\n",
    "    X_train = X_train_tmp\n",
    "    X_valid = X_valid_tmp\n",
    "    X_test = X_test_tmp\n",
    "\n",
    "    X_train = np.reshape(X_train, [X_train.shape[0], X_train.shape[1], X_train.shape[2], 1])\n",
    "    X_valid = np.reshape(X_valid, [X_valid.shape[0], X_valid.shape[1], X_valid.shape[2], 1])\n",
    "    X_test = np.reshape(X_test, [X_test.shape[0], X_test.shape[1], X_test.shape[2], 1])\n",
    "\n",
    "    print(X_train.shape)\n",
    "    print(X_valid.shape)\n",
    "    print(X_test.shape)\n",
    "else:\n",
    "    dim = 3\n",
    "        \n",
    "\n",
    "plt.figure()\n",
    "spread = np.zeros((n_classes))\n",
    "\n",
    "'''# Distribution of classes in the dataset\n",
    "for i in range(n_classes):\n",
    "    spread[i] = np.sum(y_train==i)\n",
    "'''\n",
    "num_bins = n_classes\n",
    "\n",
    "fig, ax = plt.subplots()\n",
    "\n",
    "# the histogram of the data\n",
    "n, bins, patches = ax.hist(y_train, num_bins)\n",
    "# add a 'best fit' line\n",
    "#ax.plot(bins, '--')\n",
    "ax.set_xlabel('Class')\n",
    "ax.set_ylabel('n')\n",
    "ax.set_title(r'Distribution of training data')\n",
    "\n",
    "plt.show()\n"
   ]
  },
  {
   "cell_type": "code",
   "execution_count": 4,
   "metadata": {},
   "outputs": [
    {
     "name": "stdout",
     "output_type": "stream",
     "text": [
      "36\n",
      "(32, 32, 1)\n",
      "0\n",
      "1\n",
      "2\n",
      "3\n",
      "4\n",
      "5\n",
      "6\n",
      "7\n",
      "8\n",
      "9\n",
      "10\n",
      "11\n",
      "12\n",
      "13\n",
      "14\n",
      "15\n",
      "16\n",
      "17\n",
      "18\n",
      "19\n",
      "20\n",
      "21\n"
     ]
    },
    {
     "name": "stderr",
     "output_type": "stream",
     "text": [
      "C:\\Users\\khalid18\\AppData\\Local\\conda\\conda\\envs\\carnd-term1-gpu\\lib\\site-packages\\matplotlib\\pyplot.py:524: RuntimeWarning: More than 20 figures have been opened. Figures created through the pyplot interface (`matplotlib.pyplot.figure`) are retained until explicitly closed and may consume too much memory. (To control this warning, see the rcParam `figure.max_open_warning`).\n",
      "  max_open_warning, RuntimeWarning)\n"
     ]
    },
    {
     "name": "stdout",
     "output_type": "stream",
     "text": [
      "22\n",
      "23\n",
      "24\n",
      "25\n",
      "26\n",
      "27\n",
      "28\n",
      "29\n",
      "30\n",
      "31\n",
      "32\n",
      "33\n",
      "34\n",
      "35\n",
      "36\n",
      "37\n",
      "38\n",
      "39\n",
      "40\n",
      "41\n",
      "42\n"
     ]
    },
    {
     "data": {
      "image/png": "[encoded data removed]",
      "text/plain": [
       "<matplotlib.figure.Figure at 0x2273d7d9518>"
      ]
     },
     "metadata": {},
     "output_type": "display_data"
    },
    {
     "data": {
      "image/png": "[encoded data removed]",
      "text/plain": [
       "<matplotlib.figure.Figure at 0x2273e6c1470>"
      ]
     },
     "metadata": {},
     "output_type": "display_data"
    },
    {
     "data": {
      "image/png": "[encoded data removed]",
      "text/plain": [
       "<matplotlib.figure.Figure at 0x2273e7165c0>"
      ]
     },
     "metadata": {},
     "output_type": "display_data"
    },
    {
     "data": {
      "image/png": "[encoded data removed]",
      "text/plain": [
       "<matplotlib.figure.Figure at 0x2273e7600b8>"
      ]
     },
     "metadata": {},
     "output_type": "display_data"
    },
    {
     "data": {
      "image/png": "[encoded data removed]",
      "text/plain": [
       "<matplotlib.figure.Figure at 0x2273e7b5320>"
      ]
     },
     "metadata": {},
     "output_type": "display_data"
    },
    {
     "data": {
      "image/png": "[encoded data removed]",
      "text/plain": [
       "<matplotlib.figure.Figure at 0x22741988e10>"
      ]
     },
     "metadata": {},
     "output_type": "display_data"
    },
    {
     "data": {
      "image/png": "[encoded data removed]",
      "text/plain": [
       "<matplotlib.figure.Figure at 0x227419d8fd0>"
      ]
     },
     "metadata": {},
     "output_type": "display_data"
    },
    {
     "data": {
      "image/png": "[encoded data removed]",
      "text/plain": [
       "<matplotlib.figure.Figure at 0x22743f44be0>"
      ]
     },
     "metadata": {},
     "output_type": "display_data"
    },
    {
     "data": {
      "image/png": "[encoded data removed]",
      "text/plain": [
       "<matplotlib.figure.Figure at 0x22743f97ef0>"
      ]
     },
     "metadata": {},
     "output_type": "display_data"
    },
    {
     "data": {
      "image/png": "[encoded data removed]",
      "text/plain": [
       "<matplotlib.figure.Figure at 0x22743fe0978>"
      ]
     },
     "metadata": {},
     "output_type": "display_data"
    },
    {
     "data": {
      "image/png": "[encoded data removed]",
      "text/plain": [
       "<matplotlib.figure.Figure at 0x22744035ac8>"
      ]
     },
     "metadata": {},
     "output_type": "display_data"
    },
    {
     "data": {
      "image/png": "[encoded data removed]",
      "text/plain": [
       "<matplotlib.figure.Figure at 0x2274407e7f0>"
      ]
     },
     "metadata": {},
     "output_type": "display_data"
    },
    {
     "data": {
      "image/png": "[encoded data removed]",
      "text/plain": [
       "<matplotlib.figure.Figure at 0x227440d1a58>"
      ]
     },
     "metadata": {},
     "output_type": "display_data"
    },
    {
     "data": {
      "image/png": "[encoded data removed]",
      "text/plain": [
       "<matplotlib.figure.Figure at 0x227629dc588>"
      ]
     },
     "metadata": {},
     "output_type": "display_data"
    },
    {
     "data": {
      "image/png": "[encoded data removed]",
      "text/plain": [
       "<matplotlib.figure.Figure at 0x22762a2e898>"
      ]
     },
     "metadata": {},
     "output_type": "display_data"
    },
    {
     "data": {
      "image/png": "[encoded data removed]",
      "text/plain": [
       "<matplotlib.figure.Figure at 0x22762a782e8>"
      ]
     },
     "metadata": {},
     "output_type": "display_data"
    },
    {
     "data": {
      "image/png": "[encoded data removed]",
      "text/plain": [
       "<matplotlib.figure.Figure at 0x22762acb438>"
      ]
     },
     "metadata": {},
     "output_type": "display_data"
    },
    {
     "data": {
      "image/png": "[encoded data removed]",
      "text/plain": [
       "<matplotlib.figure.Figure at 0x22762b160b8>"
      ]
     },
     "metadata": {},
     "output_type": "display_data"
    },
    {
     "data": {
      "image/png": "[encoded data removed]",
      "text/plain": [
       "<matplotlib.figure.Figure at 0x22762b68208>"
      ]
     },
     "metadata": {},
     "output_type": "display_data"
    },
    {
     "data": {
      "image/png": "[encoded data removed]",
      "text/plain": [
       "<matplotlib.figure.Figure at 0x22762babeb8>"
      ]
     },
     "metadata": {},
     "output_type": "display_data"
    },
    {
     "data": {
      "image/png": "[encoded data removed]",
      "text/plain": [
       "<matplotlib.figure.Figure at 0x22762b16080>"
      ]
     },
     "metadata": {},
     "output_type": "display_data"
    },
    {
     "data": {
      "image/png": "[encoded data removed]",
      "text/plain": [
       "<matplotlib.figure.Figure at 0x22762c96d68>"
      ]
     },
     "metadata": {},
     "output_type": "display_data"
    },
    {
     "data": {
      "image/png": "[encoded data removed]",
      "text/plain": [
       "<matplotlib.figure.Figure at 0x22762ce8e80>"
      ]
     },
     "metadata": {},
     "output_type": "display_data"
    },
    {
     "data": {
      "image/png": "[encoded data removed]",
      "text/plain": [
       "<matplotlib.figure.Figure at 0x22762d325c0>"
      ]
     },
     "metadata": {},
     "output_type": "display_data"
    },
    {
     "data": {
      "image/png": "[encoded data removed]",
      "text/plain": [
       "<matplotlib.figure.Figure at 0x22762d878d0>"
      ]
     },
     "metadata": {},
     "output_type": "display_data"
    },
    {
     "data": {
      "image/png": "[encoded data removed]",
      "text/plain": [
       "<matplotlib.figure.Figure at 0x22762dd0ba8>"
      ]
     },
     "metadata": {},
     "output_type": "display_data"
    },
    {
     "data": {
      "image/png": "[encoded data removed]",
      "text/plain": [
       "<matplotlib.figure.Figure at 0x22762e22f28>"
      ]
     },
     "metadata": {},
     "output_type": "display_data"
    },
    {
     "data": {
      "image/png": "[encoded data removed]",
      "text/plain": [
       "<matplotlib.figure.Figure at 0x22762e70080>"
      ]
     },
     "metadata": {},
     "output_type": "display_data"
    },
    {
     "data": {
      "image/png": "[encoded data removed]",
      "text/plain": [
       "<matplotlib.figure.Figure at 0x22762ec4390>"
      ]
     },
     "metadata": {},
     "output_type": "display_data"
    },
    {
     "data": {
      "image/png": "[encoded data removed]",
      "text/plain": [
       "<matplotlib.figure.Figure at 0x22762f104a8>"
      ]
     },
     "metadata": {},
     "output_type": "display_data"
    },
    {
     "data": {
      "image/png": "[encoded data removed]",
      "text/plain": [
       "<matplotlib.figure.Figure at 0x22762f61828>"
      ]
     },
     "metadata": {},
     "output_type": "display_data"
    },
    {
     "data": {
      "image/png": "[encoded data removed]",
      "text/plain": [
       "<matplotlib.figure.Figure at 0x22762faa940>"
      ]
     },
     "metadata": {},
     "output_type": "display_data"
    },
    {
     "data": {
      "image/png": "[encoded data removed]",
      "text/plain": [
       "<matplotlib.figure.Figure at 0x22762ffdc50>"
      ]
     },
     "metadata": {},
     "output_type": "display_data"
    },
    {
     "data": {
      "image/png": "[encoded data removed]",
      "text/plain": [
       "<matplotlib.figure.Figure at 0x22763047e10>"
      ]
     },
     "metadata": {},
     "output_type": "display_data"
    },
    {
     "data": {
      "image/png": "[encoded data removed]",
      "text/plain": [
       "<matplotlib.figure.Figure at 0x227630a0080>"
      ]
     },
     "metadata": {},
     "output_type": "display_data"
    },
    {
     "data": {
      "image/png": "[encoded data removed]",
      "text/plain": [
       "<matplotlib.figure.Figure at 0x227630e9320>"
      ]
     },
     "metadata": {},
     "output_type": "display_data"
    },
    {
     "data": {
      "image/png": "[encoded data removed]",
      "text/plain": [
       "<matplotlib.figure.Figure at 0x2276313c630>"
      ]
     },
     "metadata": {},
     "output_type": "display_data"
    },
    {
     "data": {
      "image/png": "[encoded data removed]",
      "text/plain": [
       "<matplotlib.figure.Figure at 0x227631866d8>"
      ]
     },
     "metadata": {},
     "output_type": "display_data"
    },
    {
     "data": {
      "image/png": "[encoded data removed]",
      "text/plain": [
       "<matplotlib.figure.Figure at 0x227631d79e8>"
      ]
     },
     "metadata": {},
     "output_type": "display_data"
    },
    {
     "data": {
      "image/png": "[encoded data removed]",
      "text/plain": [
       "<matplotlib.figure.Figure at 0x22763222ac8>"
      ]
     },
     "metadata": {},
     "output_type": "display_data"
    },
    {
     "data": {
      "image/png": "[encoded data removed]",
      "text/plain": [
       "<matplotlib.figure.Figure at 0x22763274dd8>"
      ]
     },
     "metadata": {},
     "output_type": "display_data"
    },
    {
     "data": {
      "image/png": "[encoded data removed]",
      "text/plain": [
       "<matplotlib.figure.Figure at 0x227632c3080>"
      ]
     },
     "metadata": {},
     "output_type": "display_data"
    },
    {
     "data": {
      "image/png": "[encoded data removed]",
      "text/plain": [
       "<matplotlib.figure.Figure at 0x22763319390>"
      ]
     },
     "metadata": {},
     "output_type": "display_data"
    }
   ],
   "source": [
    "# Visualization of each type of road sign running through the classifier\n",
    "%matplotlib inline\n",
    "print(y_train[1000])\n",
    "print(X_train[1000,:,:,:].shape)\n",
    "\n",
    "for i in range(n_classes):\n",
    "    exp = np.argmax(y_train==i)\n",
    "    print(i)\n",
    "    plt.figure()\n",
    "    plt.imshow(np.squeeze(X_train[exp,:,:,:]), cmap=\"gray\")\n"
   ]
  },
  {
   "cell_type": "code",
   "execution_count": 5,
   "metadata": {},
   "outputs": [
    {
     "name": "stdout",
     "output_type": "stream",
     "text": [
      "36\n",
      "(32, 32, 1)\n",
      "Shape of new X_train matrix is: (15149, 32, 32, 1)\n",
      "Shape of new y_train array is: (15149,)\n",
      "Shape of old X_train matrix is: (34799, 32, 32, 1)\n",
      "Shape of old y_train array is: (34799,)\n",
      "Shape of combined X_train matrix is: (49948, 32, 32, 1)\n",
      "Shape of combined y_train array is: (49948,)\n"
     ]
    }
   ],
   "source": [
    "# Creating new training data based on the information in signnames.csv\n",
    "%matplotlib inline\n",
    "print(y_train[1000])\n",
    "print(X_train[1000,:,:,:].shape)\n",
    "# Indicate the images that will be switched \n",
    "flipper = np.array([[9,11,12,13,15,16,17,18,19,20,22,26,29,30,33,34,36,37,38,39,40],[9,11,12,13,15,16,17,18,20,19,22,26,29,30,34,33,37,36,39,38,40]])\n",
    "X_train_new = list()\n",
    "y_train_new = list()\n",
    "'''testing = 0'''\n",
    "for i in range(flipper[0].shape[0]):\n",
    "    for j,k in enumerate(y_train==flipper[0][i]):\n",
    "        if (k==True):\n",
    "            old_image = np.squeeze(X_train[j,:,:,:])\n",
    "            new_image = np.flip(np.squeeze(X_train[j,:,:,:]),1)\n",
    "            X_train_new.append(new_image)\n",
    "            y_train_new.append(flipper[1][i])\n",
    "'''            print('Current image is:' + str(flipper[1][i]))\n",
    "            plt.figure()\n",
    "            plt.imshow(old_image, cmap=\"gray\")\n",
    "            plt.figure()\n",
    "            plt.imshow(new_image, cmap=\"gray\")\n",
    "            testing+=1\n",
    "            if (testing==3):\n",
    "                break;'''\n",
    "X_train_new = np.array(X_train_new)\n",
    "y_train_new = np.array(y_train_new)\n",
    "X_train_new = np.reshape(X_train_new,[X_train_new.shape[0], X_train_new.shape[1], X_train_new.shape[2], dim])\n",
    "print('Shape of new X_train matrix is: {}'.format(X_train_new.shape))\n",
    "print('Shape of new y_train array is: {}'.format(y_train_new.shape))\n",
    "print('Shape of old X_train matrix is: {}'.format(X_train.shape))\n",
    "print('Shape of old y_train array is: {}'.format(y_train.shape))\n",
    "\n",
    "X_train_combined = np.concatenate((X_train,X_train_new))\n",
    "y_train_combined = np.concatenate((y_train,y_train_new))\n",
    "\n",
    "print('Shape of combined X_train matrix is: {}'.format(X_train_combined.shape))\n",
    "print('Shape of combined y_train array is: {}'.format(y_train_combined.shape))\n",
    "\n",
    "X_train_old = X_train\n",
    "y_train_old = y_train\n",
    "X_train = X_train_combined\n",
    "y_train = y_train_combined"
   ]
  },
  {
   "cell_type": "markdown",
   "metadata": {},
   "source": [
    "----\n",
    "\n",
    "## Step 2: Design and Test a Model Architecture\n",
    "\n",
    "Design and implement a deep learning model that learns to recognize traffic signs. Train and test your model on the [German Traffic Sign Dataset](http://benchmark.ini.rub.de/?section=gtsrb&subsection=dataset).\n",
    "\n",
    "The LeNet-5 implementation shown in the [classroom](https://classroom.udacity.com/nanodegrees/nd013/parts/fbf77062-5703-404e-b60c-95b78b2f3f9e/modules/6df7ae49-c61c-4bb2-a23e-6527e69209ec/lessons/601ae704-1035-4287-8b11-e2c2716217ad/concepts/d4aca031-508f-4e0b-b493-e7b706120f81) at the end of the CNN lesson is a solid starting point. You'll have to change the number of classes and possibly the preprocessing, but aside from that it's plug and play! \n",
    "\n",
    "With the LeNet-5 solution from the lecture, you should expect a validation set accuracy of about 0.89. To meet specifications, the validation set accuracy will need to be at least 0.93. It is possible to get an even higher accuracy, but 0.93 is the minimum for a successful project submission. \n",
    "\n",
    "There are various aspects to consider when thinking about this problem:\n",
    "\n",
    "- Neural network architecture (is the network over or underfitting?)\n",
    "- Play around preprocessing techniques (normalization, rgb to grayscale, etc)\n",
    "- Number of examples per label (some have more than others).\n",
    "- Generate fake data.\n",
    "\n",
    "Here is an example of a [published baseline model on this problem](http://yann.lecun.com/exdb/publis/pdf/sermanet-ijcnn-11.pdf). It's not required to be familiar with the approach used in the paper but, it's good practice to try to read papers like these."
   ]
  },
  {
   "cell_type": "markdown",
   "metadata": {},
   "source": [
    "### Pre-process the Data Set (normalization, grayscale, etc.)"
   ]
  },
  {
   "cell_type": "markdown",
   "metadata": {},
   "source": [
    "Minimally, the image data should be normalized so that the data has mean zero and equal variance. For image data, `(pixel - 128)/ 128` is a quick way to approximately normalize the data and can be used in this project. \n",
    "\n",
    "Other pre-processing steps are optional. You can try different techniques to see if it improves performance. \n",
    "\n",
    "Use the code cell (or multiple code cells, if necessary) to implement the first step of your project."
   ]
  },
  {
   "cell_type": "code",
   "execution_count": 6,
   "metadata": {},
   "outputs": [
    {
     "name": "stdout",
     "output_type": "stream",
     "text": [
      "(49948, 32, 32, 1)\n",
      "(49948,)\n"
     ]
    }
   ],
   "source": [
    "### Preprocess the data here. It is required to normalize the data. Other preprocessing steps could include \n",
    "### converting to grayscale, etc.\n",
    "### Feel free to use as many code cells as needed.\n",
    "import numpy as np\n",
    "\n",
    "# Define normalizer function\n",
    "def normalizer(val):\n",
    "    val = (val-128/255)\n",
    "    return val \n",
    "\n",
    "if (normalize):\n",
    "    X_train = normalizer(X_train)\n",
    "    X_valid = normalizer(X_valid)\n",
    "    X_test = normalizer(X_test)\n",
    "\n",
    "\n",
    "# Shuffle the data\n",
    "from sklearn.utils import shuffle\n",
    "X_train, y_train = shuffle(X_train, y_train) \n",
    "print(X_train.shape)\n",
    "print(y_train.shape)\n"
   ]
  },
  {
   "cell_type": "markdown",
   "metadata": {},
   "source": [
    "### Model Architecture"
   ]
  },
  {
   "cell_type": "code",
   "execution_count": 7,
   "metadata": {},
   "outputs": [],
   "source": [
    "### Define your architecture here.\n",
    "### Feel free to use as many code cells as needed.\n",
    "\n",
    "# Setting up tensorflow\n",
    "import tensorflow as tf\n",
    "from tensorflow.contrib.layers import flatten\n",
    "\n",
    "epochs = 500\n",
    "batch_size = 128\n",
    "\n",
    "def Net(x):\n",
    "    #Hyperparameters\n",
    "    mu = 0 #mean\n",
    "    sigma = 0.05 #standard deviation\n",
    "    \n",
    "    #~~~Layer 1 - Set up first convolutional layer\n",
    "    conv1_W = tf.Variable(tf.truncated_normal(shape=(5,5,dim,6), mean=mu, stddev=sigma)) #declare filter dimensions\n",
    "    conv1_b = tf.Variable(tf.zeros(6)) #define the bias\n",
    "    conv1 = tf.nn.conv2d(x, conv1_W, strides=[1,1,1,1], padding='VALID') + conv1_b #add the bias to the result of the convolution\n",
    "\n",
    "    # Activation - Run the resulting values through an activation function\n",
    "    conv1 = tf.nn.relu(conv1)\n",
    "    \n",
    "    # Add a pooling layer\n",
    "    conv1 = tf.nn.max_pool(conv1, ksize=(1,2,2,1), strides=[1,2,2,1], padding='VALID') #Use a 2x2 kernel with a stride of 2\n",
    "    \n",
    "    #~~~Layer2 - Set up the second convolutional layer\n",
    "    conv2_W = tf.Variable(tf.truncated_normal(shape=(5,5,6,16), mean=mu, stddev=sigma))\n",
    "    conv2_b = tf.Variable(tf.zeros(16))\n",
    "    conv2 = tf.nn.conv2d(conv1, conv2_W, strides=[1,1,1,1], padding='VALID') + conv2_b\n",
    "    \n",
    "    # Activation - Run the resulting values through an activation function again\n",
    "    conv2 = tf.nn.relu(conv2)\n",
    "    \n",
    "    # Add another pooling layer\n",
    "    conv2 = tf.nn.max_pool(conv2, ksize=[1,2,2,1], strides=[1,2,2,1], padding='VALID')\n",
    "    \n",
    "    # Flatten data before sending to a fully connected layer\n",
    "    fc0 = flatten(conv2)\n",
    "    \n",
    "    #~~~Layer 3 - Fully Connected\n",
    "    fc1_W = tf.Variable(tf.truncated_normal(shape=(400,120), mean=mu, stddev=sigma))\n",
    "    fc1_b = tf.Variable(tf.zeros(120))\n",
    "    fc1 = tf.matmul(fc0, fc1_W) + fc1_b\n",
    "    \n",
    "    # Activation\n",
    "    fc1 = tf.nn.relu(fc1)\n",
    "    \n",
    "    #~~~Layer 4 - Fully Connected once again!\n",
    "    fc2_W = tf.Variable(tf.truncated_normal(shape=(120,84), mean=mu, stddev=sigma))\n",
    "    fc2_b = tf.Variable(tf.zeros(84))\n",
    "    fc2 = tf.matmul(fc1, fc2_W) + fc2_b\n",
    "    \n",
    "    # Activation\n",
    "    fc2 = tf.nn.relu(fc2)\n",
    "    \n",
    "    # ...Another Fully Connected Layer\n",
    "    fc3_W = tf.Variable(tf.truncated_normal(shape=(84,43), mean=mu, stddev=sigma))\n",
    "    fc3_b = tf.Variable(tf.zeros(43))\n",
    "    logits = tf.matmul(fc2,fc3_W) + fc3_b\n",
    "    \n",
    "    return logits  "
   ]
  },
  {
   "cell_type": "markdown",
   "metadata": {},
   "source": [
    "### Train, Validate and Test the Model"
   ]
  },
  {
   "cell_type": "markdown",
   "metadata": {},
   "source": [
    "A validation set can be used to assess how well the model is performing. A low accuracy on the training and validation"
   ]
  },
  {
   "cell_type": "code",
   "execution_count": 8,
   "metadata": {},
   "outputs": [],
   "source": [
    "# Create placeholders for the data (None refers to the batch size which has not been determined yet!)\n",
    "x = tf.placeholder(tf.float32, (None,32,32,dim))\n",
    "y = tf.placeholder(tf.int32, (None))\n",
    "one_hot_y = tf.one_hot(y,43)\n",
    "\n",
    "### Train your model here.\n",
    "rate = 0.001\n",
    "\n",
    "logits = Net(x)\n",
    "cross_entropy = tf.nn.softmax_cross_entropy_with_logits(logits=logits, labels=one_hot_y) # Quantify the extent to which our calculated logits correspond to the actual one hot encoded labels\n",
    "loss_operation = tf.reduce_mean(cross_entropy) # Calculate the average cross-entropy\n",
    "optimizer = tf.train.AdamOptimizer(learning_rate=rate) # Adam Optimizer used for function optimization\n",
    "training_operation = optimizer.minimize(loss_operation) # Use the optimizer to minimize the loss function \n"
   ]
  },
  {
   "cell_type": "code",
   "execution_count": null,
   "metadata": {},
   "outputs": [],
   "source": [
    "# Model evaluation\n",
    "correct_prediction = tf.equal(tf.argmax(logits, 1), tf.argmax(one_hot_y, 1)) # logits and one_hot_y are both nx10 matrices and the resulting matrix is nx1\n",
    "accuracy_operation = tf.reduce_mean(tf.cast(correct_prediction, tf.float32))\n",
    "\n",
    "# Evaluation function\n",
    "def evaluate(X_data, y_data):\n",
    "    num_examples = len(X_data)\n",
    "    total_accuracy = 0\n",
    "    sess = tf.get_default_session()\n",
    "    for offset in range(0, num_examples, batch_size):\n",
    "        batch_x, batch_y = X_data[offset:offset+batch_size], y_data[offset:offset+batch_size]\n",
    "        accuracy = sess.run(accuracy_operation, feed_dict={x: batch_x, y: batch_y})\n",
    "        total_accuracy += (accuracy*len(batch_x))\n",
    "    return total_accuracy/num_examples"
   ]
  },
  {
   "cell_type": "code",
   "execution_count": null,
   "metadata": {},
   "outputs": [
    {
     "name": "stdout",
     "output_type": "stream",
     "text": [
      "Training...\n",
      "\n",
      "EPOCHS: 1\n",
      "Validation accuracy: 0.785\n",
      "\n",
      "EPOCHS: 2\n",
      "Validation accuracy: 0.849\n",
      "\n",
      "EPOCHS: 3\n",
      "Validation accuracy: 0.881\n",
      "\n",
      "EPOCHS: 4\n",
      "Validation accuracy: 0.905\n",
      "\n",
      "EPOCHS: 5\n",
      "Validation accuracy: 0.898\n",
      "\n",
      "EPOCHS: 6\n",
      "Validation accuracy: 0.907\n",
      "\n",
      "EPOCHS: 7\n",
      "Validation accuracy: 0.912\n",
      "\n",
      "EPOCHS: 8\n",
      "Validation accuracy: 0.908\n",
      "\n",
      "EPOCHS: 9\n",
      "Validation accuracy: 0.911\n",
      "\n",
      "EPOCHS: 10\n",
      "Validation accuracy: 0.921\n",
      "\n",
      "EPOCHS: 11\n",
      "Validation accuracy: 0.916\n",
      "\n",
      "EPOCHS: 12\n",
      "Validation accuracy: 0.922\n",
      "\n",
      "EPOCHS: 13\n",
      "Validation accuracy: 0.928\n",
      "\n",
      "EPOCHS: 14\n",
      "Validation accuracy: 0.924\n",
      "\n",
      "EPOCHS: 15\n",
      "Validation accuracy: 0.934\n",
      "\n",
      "EPOCHS: 16\n",
      "Validation accuracy: 0.918\n",
      "\n",
      "EPOCHS: 17\n",
      "Validation accuracy: 0.929\n",
      "\n",
      "EPOCHS: 18\n",
      "Validation accuracy: 0.904\n",
      "\n",
      "EPOCHS: 19\n",
      "Validation accuracy: 0.903\n",
      "\n",
      "EPOCHS: 20\n",
      "Validation accuracy: 0.916\n",
      "\n",
      "EPOCHS: 21\n",
      "Validation accuracy: 0.906\n",
      "\n",
      "EPOCHS: 22\n",
      "Validation accuracy: 0.913\n",
      "\n",
      "EPOCHS: 23\n",
      "Validation accuracy: 0.919\n",
      "\n",
      "EPOCHS: 24\n",
      "Validation accuracy: 0.924\n",
      "\n",
      "EPOCHS: 25\n",
      "Validation accuracy: 0.922\n",
      "\n",
      "EPOCHS: 26\n",
      "Validation accuracy: 0.928\n",
      "\n",
      "EPOCHS: 27\n",
      "Validation accuracy: 0.923\n",
      "\n",
      "EPOCHS: 28\n",
      "Validation accuracy: 0.917\n",
      "\n",
      "EPOCHS: 29\n",
      "Validation accuracy: 0.915\n",
      "\n",
      "EPOCHS: 30\n",
      "Validation accuracy: 0.922\n",
      "\n",
      "EPOCHS: 31\n",
      "Validation accuracy: 0.927\n",
      "\n",
      "EPOCHS: 32\n",
      "Validation accuracy: 0.934\n",
      "\n",
      "EPOCHS: 33\n",
      "Validation accuracy: 0.919\n",
      "\n",
      "EPOCHS: 34\n",
      "Validation accuracy: 0.926\n",
      "\n",
      "EPOCHS: 35\n",
      "Validation accuracy: 0.894\n",
      "\n",
      "EPOCHS: 36\n",
      "Validation accuracy: 0.925\n",
      "\n",
      "EPOCHS: 37\n",
      "Validation accuracy: 0.929\n",
      "\n",
      "EPOCHS: 38\n",
      "Validation accuracy: 0.918\n",
      "\n",
      "EPOCHS: 39\n",
      "Validation accuracy: 0.928\n",
      "\n",
      "EPOCHS: 40\n",
      "Validation accuracy: 0.931\n",
      "\n",
      "EPOCHS: 41\n",
      "Validation accuracy: 0.928\n",
      "\n",
      "EPOCHS: 42\n",
      "Validation accuracy: 0.935\n",
      "\n",
      "EPOCHS: 43\n",
      "Validation accuracy: 0.927\n",
      "\n",
      "EPOCHS: 44\n",
      "Validation accuracy: 0.923\n",
      "\n",
      "EPOCHS: 45\n",
      "Validation accuracy: 0.921\n",
      "\n",
      "EPOCHS: 46\n",
      "Validation accuracy: 0.917\n",
      "\n",
      "EPOCHS: 47\n",
      "Validation accuracy: 0.926\n",
      "\n",
      "EPOCHS: 48\n",
      "Validation accuracy: 0.926\n",
      "\n",
      "EPOCHS: 49\n",
      "Validation accuracy: 0.921\n",
      "\n",
      "EPOCHS: 50\n",
      "Validation accuracy: 0.931\n",
      "\n",
      "EPOCHS: 51\n",
      "Validation accuracy: 0.928\n",
      "\n",
      "EPOCHS: 52\n",
      "Validation accuracy: 0.927\n",
      "\n",
      "EPOCHS: 53\n",
      "Validation accuracy: 0.924\n",
      "\n",
      "EPOCHS: 54\n",
      "Validation accuracy: 0.931\n",
      "\n",
      "EPOCHS: 55\n",
      "Validation accuracy: 0.933\n",
      "\n",
      "EPOCHS: 56\n",
      "Validation accuracy: 0.938\n",
      "\n",
      "EPOCHS: 57\n",
      "Validation accuracy: 0.925\n",
      "\n",
      "EPOCHS: 58\n",
      "Validation accuracy: 0.916\n",
      "\n",
      "EPOCHS: 59\n",
      "Validation accuracy: 0.930\n",
      "\n",
      "EPOCHS: 60\n",
      "Validation accuracy: 0.940\n",
      "\n",
      "EPOCHS: 61\n",
      "Validation accuracy: 0.934\n",
      "\n",
      "EPOCHS: 62\n",
      "Validation accuracy: 0.929\n",
      "\n",
      "EPOCHS: 63\n",
      "Validation accuracy: 0.920\n",
      "\n",
      "EPOCHS: 64\n",
      "Validation accuracy: 0.933\n",
      "\n",
      "EPOCHS: 65\n",
      "Validation accuracy: 0.923\n",
      "\n",
      "EPOCHS: 66\n",
      "Validation accuracy: 0.888\n",
      "\n",
      "EPOCHS: 67\n",
      "Validation accuracy: 0.914\n",
      "\n",
      "EPOCHS: 68\n",
      "Validation accuracy: 0.929\n",
      "\n",
      "EPOCHS: 69\n",
      "Validation accuracy: 0.930\n",
      "\n",
      "EPOCHS: 70\n",
      "Validation accuracy: 0.921\n",
      "\n",
      "EPOCHS: 71\n",
      "Validation accuracy: 0.920\n",
      "\n",
      "EPOCHS: 72\n",
      "Validation accuracy: 0.931\n",
      "\n",
      "EPOCHS: 73\n",
      "Validation accuracy: 0.935\n",
      "\n",
      "EPOCHS: 74\n",
      "Validation accuracy: 0.926\n",
      "\n",
      "EPOCHS: 75\n",
      "Validation accuracy: 0.913\n",
      "\n",
      "EPOCHS: 76\n",
      "Validation accuracy: 0.925\n",
      "\n",
      "EPOCHS: 77\n",
      "Validation accuracy: 0.920\n",
      "\n",
      "EPOCHS: 78\n",
      "Validation accuracy: 0.932\n",
      "\n",
      "EPOCHS: 79\n",
      "Validation accuracy: 0.915\n",
      "\n",
      "EPOCHS: 80\n",
      "Validation accuracy: 0.925\n",
      "\n",
      "EPOCHS: 81\n",
      "Validation accuracy: 0.932\n",
      "\n",
      "EPOCHS: 82\n",
      "Validation accuracy: 0.943\n",
      "\n",
      "EPOCHS: 83\n",
      "Validation accuracy: 0.944\n",
      "\n",
      "EPOCHS: 84\n",
      "Validation accuracy: 0.933\n",
      "\n",
      "EPOCHS: 85\n",
      "Validation accuracy: 0.913\n",
      "\n",
      "EPOCHS: 86\n",
      "Validation accuracy: 0.921\n",
      "\n",
      "EPOCHS: 87\n",
      "Validation accuracy: 0.937\n",
      "\n",
      "EPOCHS: 88\n",
      "Validation accuracy: 0.938\n",
      "\n",
      "EPOCHS: 89\n",
      "Validation accuracy: 0.932\n",
      "\n",
      "EPOCHS: 90\n",
      "Validation accuracy: 0.929\n",
      "\n",
      "EPOCHS: 91\n",
      "Validation accuracy: 0.914\n",
      "\n",
      "EPOCHS: 92\n",
      "Validation accuracy: 0.934\n",
      "\n",
      "EPOCHS: 93\n",
      "Validation accuracy: 0.941\n",
      "\n",
      "EPOCHS: 94\n",
      "Validation accuracy: 0.942\n",
      "\n",
      "EPOCHS: 95\n",
      "Validation accuracy: 0.929\n",
      "\n",
      "EPOCHS: 96\n",
      "Validation accuracy: 0.932\n",
      "\n",
      "EPOCHS: 97\n",
      "Validation accuracy: 0.929\n",
      "\n",
      "EPOCHS: 98\n",
      "Validation accuracy: 0.932\n",
      "\n",
      "EPOCHS: 99\n",
      "Validation accuracy: 0.941\n",
      "\n",
      "EPOCHS: 100\n",
      "Validation accuracy: 0.929\n",
      "\n",
      "EPOCHS: 101\n",
      "Validation accuracy: 0.934\n",
      "\n",
      "EPOCHS: 102\n",
      "Validation accuracy: 0.941\n",
      "\n",
      "EPOCHS: 103\n",
      "Validation accuracy: 0.929\n",
      "\n",
      "EPOCHS: 104\n",
      "Validation accuracy: 0.934\n",
      "\n",
      "EPOCHS: 105\n",
      "Validation accuracy: 0.925\n",
      "\n",
      "EPOCHS: 106\n",
      "Validation accuracy: 0.937\n",
      "\n",
      "EPOCHS: 107\n",
      "Validation accuracy: 0.919\n",
      "\n",
      "EPOCHS: 108\n",
      "Validation accuracy: 0.940\n",
      "\n",
      "EPOCHS: 109\n",
      "Validation accuracy: 0.930\n",
      "\n",
      "EPOCHS: 110\n",
      "Validation accuracy: 0.944\n",
      "\n",
      "EPOCHS: 111\n",
      "Validation accuracy: 0.935\n",
      "\n",
      "EPOCHS: 112\n",
      "Validation accuracy: 0.920\n",
      "\n",
      "EPOCHS: 113\n",
      "Validation accuracy: 0.950\n",
      "\n",
      "EPOCHS: 114\n",
      "Validation accuracy: 0.937\n",
      "\n",
      "EPOCHS: 115\n",
      "Validation accuracy: 0.949\n",
      "\n",
      "EPOCHS: 116\n",
      "Validation accuracy: 0.945\n",
      "\n",
      "EPOCHS: 117\n",
      "Validation accuracy: 0.936\n",
      "\n",
      "EPOCHS: 118\n",
      "Validation accuracy: 0.933\n",
      "\n",
      "EPOCHS: 119\n",
      "Validation accuracy: 0.933\n",
      "\n",
      "EPOCHS: 120\n",
      "Validation accuracy: 0.947\n",
      "\n",
      "EPOCHS: 121\n",
      "Validation accuracy: 0.943\n",
      "\n",
      "EPOCHS: 122\n",
      "Validation accuracy: 0.936\n",
      "\n",
      "EPOCHS: 123\n",
      "Validation accuracy: 0.951\n",
      "\n",
      "EPOCHS: 124\n",
      "Validation accuracy: 0.933\n",
      "\n",
      "EPOCHS: 125\n",
      "Validation accuracy: 0.924\n",
      "\n",
      "EPOCHS: 126\n",
      "Validation accuracy: 0.924\n",
      "\n",
      "EPOCHS: 127\n",
      "Validation accuracy: 0.927\n",
      "\n",
      "EPOCHS: 128\n",
      "Validation accuracy: 0.931\n",
      "\n",
      "EPOCHS: 129\n",
      "Validation accuracy: 0.921\n",
      "\n",
      "EPOCHS: 130\n",
      "Validation accuracy: 0.942\n",
      "\n",
      "EPOCHS: 131\n",
      "Validation accuracy: 0.943\n",
      "\n",
      "EPOCHS: 132\n",
      "Validation accuracy: 0.946\n",
      "\n",
      "EPOCHS: 133\n",
      "Validation accuracy: 0.934\n",
      "\n",
      "EPOCHS: 134\n",
      "Validation accuracy: 0.933\n",
      "\n",
      "EPOCHS: 135\n",
      "Validation accuracy: 0.942\n",
      "\n",
      "EPOCHS: 136\n",
      "Validation accuracy: 0.941\n",
      "\n",
      "EPOCHS: 137\n",
      "Validation accuracy: 0.932\n",
      "\n",
      "EPOCHS: 138\n",
      "Validation accuracy: 0.924\n",
      "\n",
      "EPOCHS: 139\n",
      "Validation accuracy: 0.930\n",
      "\n",
      "EPOCHS: 140\n",
      "Validation accuracy: 0.936\n",
      "\n",
      "EPOCHS: 141\n",
      "Validation accuracy: 0.939\n",
      "\n",
      "EPOCHS: 142\n",
      "Validation accuracy: 0.939\n",
      "\n",
      "EPOCHS: 143\n",
      "Validation accuracy: 0.939\n",
      "\n",
      "EPOCHS: 144\n",
      "Validation accuracy: 0.939\n",
      "\n",
      "EPOCHS: 145\n",
      "Validation accuracy: 0.939\n",
      "\n",
      "EPOCHS: 146\n",
      "Validation accuracy: 0.939\n",
      "\n",
      "EPOCHS: 147\n",
      "Validation accuracy: 0.939\n",
      "\n",
      "EPOCHS: 148\n",
      "Validation accuracy: 0.939\n",
      "\n",
      "EPOCHS: 149\n",
      "Validation accuracy: 0.940\n",
      "\n",
      "EPOCHS: 150\n",
      "Validation accuracy: 0.940\n",
      "\n",
      "EPOCHS: 151\n",
      "Validation accuracy: 0.940\n",
      "\n",
      "EPOCHS: 152\n",
      "Validation accuracy: 0.941\n",
      "\n",
      "EPOCHS: 153\n",
      "Validation accuracy: 0.941\n",
      "\n",
      "EPOCHS: 154\n",
      "Validation accuracy: 0.941\n",
      "\n",
      "EPOCHS: 155\n",
      "Validation accuracy: 0.941\n",
      "\n",
      "EPOCHS: 156\n",
      "Validation accuracy: 0.942\n",
      "\n",
      "EPOCHS: 157\n",
      "Validation accuracy: 0.941\n",
      "\n",
      "EPOCHS: 158\n",
      "Validation accuracy: 0.941\n",
      "\n",
      "EPOCHS: 159\n",
      "Validation accuracy: 0.942\n",
      "\n",
      "EPOCHS: 160\n",
      "Validation accuracy: 0.942\n",
      "\n",
      "EPOCHS: 161\n",
      "Validation accuracy: 0.941\n",
      "\n",
      "EPOCHS: 162\n",
      "Validation accuracy: 0.942\n",
      "\n",
      "EPOCHS: 163\n",
      "Validation accuracy: 0.942\n",
      "\n",
      "EPOCHS: 164\n",
      "Validation accuracy: 0.941\n",
      "\n",
      "EPOCHS: 165\n",
      "Validation accuracy: 0.942\n",
      "\n",
      "EPOCHS: 166\n",
      "Validation accuracy: 0.942\n",
      "\n",
      "EPOCHS: 167\n",
      "Validation accuracy: 0.942\n",
      "\n",
      "EPOCHS: 168\n",
      "Validation accuracy: 0.942\n",
      "\n",
      "EPOCHS: 169\n",
      "Validation accuracy: 0.942\n",
      "\n",
      "EPOCHS: 170\n",
      "Validation accuracy: 0.942\n",
      "\n",
      "EPOCHS: 171\n",
      "Validation accuracy: 0.942\n",
      "\n",
      "EPOCHS: 172\n",
      "Validation accuracy: 0.942\n",
      "\n",
      "EPOCHS: 173\n",
      "Validation accuracy: 0.943\n",
      "\n",
      "EPOCHS: 174\n",
      "Validation accuracy: 0.942\n",
      "\n",
      "EPOCHS: 175\n",
      "Validation accuracy: 0.943\n",
      "\n",
      "EPOCHS: 176\n",
      "Validation accuracy: 0.941\n",
      "\n",
      "EPOCHS: 177\n",
      "Validation accuracy: 0.941\n",
      "\n",
      "EPOCHS: 178\n",
      "Validation accuracy: 0.941\n",
      "\n",
      "EPOCHS: 179\n",
      "Validation accuracy: 0.942\n",
      "\n",
      "EPOCHS: 180\n",
      "Validation accuracy: 0.942\n",
      "\n",
      "EPOCHS: 181\n",
      "Validation accuracy: 0.942\n",
      "\n",
      "EPOCHS: 182\n",
      "Validation accuracy: 0.941\n",
      "\n",
      "EPOCHS: 183\n",
      "Validation accuracy: 0.942\n",
      "\n",
      "EPOCHS: 184\n",
      "Validation accuracy: 0.942\n",
      "\n",
      "EPOCHS: 185\n",
      "Validation accuracy: 0.942\n",
      "\n",
      "EPOCHS: 186\n",
      "Validation accuracy: 0.941\n",
      "\n",
      "EPOCHS: 187\n",
      "Validation accuracy: 0.941\n",
      "\n",
      "EPOCHS: 188\n",
      "Validation accuracy: 0.941\n",
      "\n",
      "EPOCHS: 189\n",
      "Validation accuracy: 0.941\n",
      "\n",
      "EPOCHS: 190\n",
      "Validation accuracy: 0.942\n",
      "\n",
      "EPOCHS: 191\n",
      "Validation accuracy: 0.942\n",
      "\n",
      "EPOCHS: 192\n",
      "Validation accuracy: 0.941\n",
      "\n",
      "EPOCHS: 193\n",
      "Validation accuracy: 0.942\n",
      "\n",
      "EPOCHS: 194\n",
      "Validation accuracy: 0.941\n",
      "\n",
      "EPOCHS: 195\n",
      "Validation accuracy: 0.942\n",
      "\n",
      "EPOCHS: 196\n",
      "Validation accuracy: 0.941\n",
      "\n",
      "EPOCHS: 197\n",
      "Validation accuracy: 0.941\n",
      "\n",
      "EPOCHS: 198\n",
      "Validation accuracy: 0.941\n",
      "\n",
      "EPOCHS: 199\n",
      "Validation accuracy: 0.942\n",
      "\n",
      "EPOCHS: 200\n",
      "Validation accuracy: 0.942\n",
      "\n",
      "EPOCHS: 201\n",
      "Validation accuracy: 0.942\n",
      "\n",
      "EPOCHS: 202\n",
      "Validation accuracy: 0.942\n",
      "\n",
      "EPOCHS: 203\n",
      "Validation accuracy: 0.941\n",
      "\n",
      "EPOCHS: 204\n",
      "Validation accuracy: 0.942\n",
      "\n",
      "EPOCHS: 205\n",
      "Validation accuracy: 0.942\n",
      "\n",
      "EPOCHS: 206\n",
      "Validation accuracy: 0.941\n",
      "\n",
      "EPOCHS: 207\n",
      "Validation accuracy: 0.941\n",
      "\n",
      "EPOCHS: 208\n",
      "Validation accuracy: 0.942\n",
      "\n"
     ]
    },
    {
     "name": "stdout",
     "output_type": "stream",
     "text": [
      "EPOCHS: 209\n",
      "Validation accuracy: 0.942\n",
      "\n",
      "EPOCHS: 210\n",
      "Validation accuracy: 0.942\n",
      "\n",
      "EPOCHS: 211\n",
      "Validation accuracy: 0.941\n",
      "\n",
      "EPOCHS: 212\n",
      "Validation accuracy: 0.942\n",
      "\n",
      "EPOCHS: 213\n",
      "Validation accuracy: 0.941\n",
      "\n",
      "EPOCHS: 214\n",
      "Validation accuracy: 0.941\n",
      "\n",
      "EPOCHS: 215\n",
      "Validation accuracy: 0.942\n",
      "\n",
      "EPOCHS: 216\n",
      "Validation accuracy: 0.941\n",
      "\n",
      "EPOCHS: 217\n",
      "Validation accuracy: 0.942\n",
      "\n",
      "EPOCHS: 218\n",
      "Validation accuracy: 0.868\n",
      "\n",
      "EPOCHS: 219\n",
      "Validation accuracy: 0.936\n",
      "\n",
      "EPOCHS: 220\n",
      "Validation accuracy: 0.938\n",
      "\n",
      "EPOCHS: 221\n",
      "Validation accuracy: 0.934\n",
      "\n",
      "EPOCHS: 222\n",
      "Validation accuracy: 0.932\n",
      "\n",
      "EPOCHS: 223\n",
      "Validation accuracy: 0.937\n",
      "\n",
      "EPOCHS: 224\n",
      "Validation accuracy: 0.938\n",
      "\n",
      "EPOCHS: 225\n",
      "Validation accuracy: 0.938\n",
      "\n",
      "EPOCHS: 226\n",
      "Validation accuracy: 0.944\n",
      "\n",
      "EPOCHS: 227\n",
      "Validation accuracy: 0.946\n",
      "\n",
      "EPOCHS: 228\n",
      "Validation accuracy: 0.942\n",
      "\n",
      "EPOCHS: 229\n",
      "Validation accuracy: 0.939\n",
      "\n",
      "EPOCHS: 230\n",
      "Validation accuracy: 0.927\n",
      "\n",
      "EPOCHS: 231\n",
      "Validation accuracy: 0.934\n",
      "\n",
      "EPOCHS: 232\n",
      "Validation accuracy: 0.950\n",
      "\n",
      "EPOCHS: 233\n",
      "Validation accuracy: 0.945\n",
      "\n",
      "EPOCHS: 234\n",
      "Validation accuracy: 0.941\n",
      "\n",
      "EPOCHS: 235\n",
      "Validation accuracy: 0.912\n",
      "\n",
      "EPOCHS: 236\n",
      "Validation accuracy: 0.933\n",
      "\n",
      "EPOCHS: 237\n",
      "Validation accuracy: 0.935\n",
      "\n",
      "EPOCHS: 238\n",
      "Validation accuracy: 0.936\n",
      "\n",
      "EPOCHS: 239\n",
      "Validation accuracy: 0.921\n",
      "\n",
      "EPOCHS: 240\n",
      "Validation accuracy: 0.942\n",
      "\n",
      "EPOCHS: 241\n",
      "Validation accuracy: 0.927\n",
      "\n",
      "EPOCHS: 242\n",
      "Validation accuracy: 0.944\n",
      "\n",
      "EPOCHS: 243\n",
      "Validation accuracy: 0.940\n",
      "\n",
      "EPOCHS: 244\n",
      "Validation accuracy: 0.944\n",
      "\n",
      "EPOCHS: 245\n",
      "Validation accuracy: 0.926\n",
      "\n",
      "EPOCHS: 246\n",
      "Validation accuracy: 0.949\n",
      "\n",
      "EPOCHS: 247\n",
      "Validation accuracy: 0.939\n",
      "\n",
      "EPOCHS: 248\n",
      "Validation accuracy: 0.935\n",
      "\n",
      "EPOCHS: 249\n",
      "Validation accuracy: 0.929\n",
      "\n",
      "EPOCHS: 250\n",
      "Validation accuracy: 0.931\n",
      "\n",
      "EPOCHS: 251\n",
      "Validation accuracy: 0.928\n",
      "\n",
      "EPOCHS: 252\n",
      "Validation accuracy: 0.928\n",
      "\n",
      "EPOCHS: 253\n",
      "Validation accuracy: 0.934\n",
      "\n",
      "EPOCHS: 254\n",
      "Validation accuracy: 0.933\n",
      "\n",
      "EPOCHS: 255\n",
      "Validation accuracy: 0.935\n",
      "\n",
      "EPOCHS: 256\n",
      "Validation accuracy: 0.929\n",
      "\n",
      "EPOCHS: 257\n",
      "Validation accuracy: 0.935\n",
      "\n",
      "EPOCHS: 258\n",
      "Validation accuracy: 0.917\n",
      "\n",
      "EPOCHS: 259\n",
      "Validation accuracy: 0.922\n",
      "\n",
      "EPOCHS: 260\n",
      "Validation accuracy: 0.932\n",
      "\n",
      "EPOCHS: 261\n",
      "Validation accuracy: 0.931\n",
      "\n",
      "EPOCHS: 262\n",
      "Validation accuracy: 0.925\n",
      "\n",
      "EPOCHS: 263\n",
      "Validation accuracy: 0.945\n",
      "\n"
     ]
    }
   ],
   "source": [
    "# Train the model\n",
    "with tf.Session() as sess:\n",
    "    sess.run(tf.global_variables_initializer()) # Initialize the globl variables\n",
    "    num_examples = len(X_train)\n",
    "    \n",
    "    print(\"Training...\")\n",
    "    print()\n",
    "    for i in range(epochs):\n",
    "        X_train, y_train = shuffle(X_train, y_train)\n",
    "        for offset in range(0, num_examples, batch_size):\n",
    "            batch_X, batch_y = X_train[offset:offset+batch_size], y_train[offset:offset+batch_size]\n",
    "            sess.run(training_operation, feed_dict={x: batch_X, y: batch_y})\n",
    "        \n",
    "        validation_accuracy = evaluate(X_valid, y_valid) # Test trained model on validation data\n",
    "        print((\"EPOCHS: {}\").format(i+1))\n",
    "        print((\"Validation accuracy: {:.3f}\").format(validation_accuracy))\n",
    "        print()\n",
    "\n",
    "    # Generic code to save model\n",
    "    try:\n",
    "        saver\n",
    "    except NameError:\n",
    "        saver = tf.train.Saver()\n",
    "    saver.save(sess, './net')\n",
    "    print(\"Model saved!\")\n",
    "    "
   ]
  },
  {
   "cell_type": "markdown",
   "metadata": {},
   "source": [
    "---\n",
    "\n",
    "## Step 3: Test a Model on New Images\n",
    "\n",
    "To give yourself more insight into how your model is working, download at least five pictures of German traffic signs from the web and use your model to predict the traffic sign type.\n",
    "\n",
    "You may find `signnames.csv` useful as it contains mappings from the class id (integer) to the actual sign name."
   ]
  },
  {
   "cell_type": "markdown",
   "metadata": {},
   "source": [
    "### Load and Output the Images"
   ]
  },
  {
   "cell_type": "code",
   "execution_count": null,
   "metadata": {},
   "outputs": [],
   "source": [
    "### Load the images and plot them here.\n",
    "### Feel free to use as many code cells as needed.\n",
    "from PIL import Image\n",
    "size = 32,32\n",
    "test_all = list()\n",
    "\n",
    "# Extract image 1:\n",
    "testpic = Image.open('./examples_test/3.jpg')\n",
    "testpic1 = np.asarray(testpic.resize(size), dtype=np.float32)\n",
    "test_all.append(testpic1)\n",
    "plt.figure()\n",
    "plt.imshow(testpic1)\n",
    "\n",
    "# Extract image 2:\n",
    "testpic = Image.open('./examples_test/13.jpg')\n",
    "testpic2 = np.asarray(testpic.resize(size), dtype=np.float32)\n",
    "test_all.append(testpic2)\n",
    "plt.figure()\n",
    "plt.imshow(testpic2)\n",
    "\n",
    "# Extract image 3:\n",
    "testpic = Image.open('./examples_test/14.jpg')\n",
    "testpic3 = np.asarray(testpic.resize(size), dtype=np.float32)\n",
    "test_all.append(testpic3)\n",
    "plt.figure()\n",
    "plt.imshow(testpic3)\n",
    "\n",
    "# Extract image 4:\n",
    "testpic = Image.open('./examples_test/17.jpg')\n",
    "testpic4 = np.asarray(testpic.resize(size), dtype=np.float32)\n",
    "test_all.append(testpic4)\n",
    "plt.figure()\n",
    "plt.imshow(testpic4)\n",
    "\n",
    "# Extract image 5:\n",
    "testpic = Image.open('./examples_test/27.jpg')\n",
    "testpic5 = np.asarray(testpic.resize(size), dtype=np.float32)\n",
    "test_all.append(testpic5)\n",
    "plt.figure()\n",
    "plt.imshow(testpic5)\n",
    "\n",
    "# Extract image 6:\n",
    "testpic = Image.open('./examples_test/30.jpg')\n",
    "testpic6 = np.asarray(testpic.resize(size), dtype=np.float32)\n",
    "test_all.append(testpic6)\n",
    "plt.figure()\n",
    "plt.imshow(testpic6)\n",
    "\n",
    "X_test_new = np.array(test_all)\n",
    "\n",
    "if (gray):\n",
    "    X_test_new = np.reshape(np.mean(X_test_new,axis=3), [X_test_new.shape[0],32,32,1])\n",
    "else:\n",
    "    X_test_new = X_test_new\n",
    "    \n",
    "y_test_new = [3, 13, 14, 17, 27, 30]\n",
    "y_test_new = np.array(y_test_new)\n"
   ]
  },
  {
   "cell_type": "markdown",
   "metadata": {},
   "source": [
    "### Analyze the validation data results"
   ]
  },
  {
   "cell_type": "code",
   "execution_count": null,
   "metadata": {},
   "outputs": [],
   "source": [
    "# Test the model on the test data\n",
    "\n",
    "data = X_valid\n",
    "actual = y_valid\n",
    "\n",
    "with tf.Session() as sess:\n",
    "    sess.run(tf.global_variables_initializer()) # Initialize the globl variables\n",
    "    saver.restore(sess, \"./net\")\n",
    "    print(\"Model restored.\")\n",
    "    res = sess.run(logits, feed_dict={x:data})\n",
    "    predictions = np.zeros((res.shape[0]))\n",
    "    for i in range(res.shape[0]):\n",
    "        predictions[i] = np.argmax(res[i,:])\n",
    "        \n",
    "print(predictions)\n",
    "print(actual)\n",
    "print('Accuracy of new images: {}'.format(np.mean(predictions==actual)))\n",
    "\n",
    "from sklearn.metrics import confusion_matrix\n",
    "import itertools\n",
    "\n",
    "class_names = range(0,42)\n",
    "\n",
    "# Compute confusion matrix\n",
    "cnf_matrix = confusion_matrix(actual, predictions)\n",
    "print(cnf_matrix.shape)\n",
    "np.set_printoptions(precision=2)\n",
    "accuracy = np.zeros((n_classes))\n",
    "for i in range(cnf_matrix.shape[0]):\n",
    "    num = cnf_matrix[i,i]\n",
    "    den = np.sum(cnf_matrix[i,:])\n",
    "    accuracy[i] = num/den\n",
    "    if (accuracy[i] < 0.9):\n",
    "        print('Accuracy for {} is: {}'.format(i, accuracy[i]))\n",
    "\n",
    "plt.figure()\n",
    "plt.plot(range(0,43), accuracy, '*g')\n",
    "plt.plot(range(0,43), np.repeat(0.9, 43), 'r')\n",
    "plt.title('Accuracies for each class')\n",
    "plt.xlabel('Classes')\n",
    "plt.ylabel('Accuracies')"
   ]
  },
  {
   "cell_type": "markdown",
   "metadata": {},
   "source": [
    "### Test on test data"
   ]
  },
  {
   "cell_type": "code",
   "execution_count": null,
   "metadata": {},
   "outputs": [],
   "source": [
    "# Test the model on the test data\n",
    "with tf.Session() as sess:\n",
    "    sess.run(tf.global_variables_initializer()) # Initialize the globl variables\n",
    "    saver.restore(sess, \"./net\")\n",
    "    print(\"Model restored.\")\n",
    "    res = sess.run(logits, feed_dict={x:X_test})\n",
    "    predictions = np.zeros((res.shape[0]))\n",
    "    for i in range(res.shape[0]):\n",
    "        predictions[i] = np.argmax(res[i,:])\n",
    "        \n",
    "print(predictions)\n",
    "print(y_test)\n",
    "print('Accuracy of new images: {}'.format(np.mean(predictions==y_test)))"
   ]
  },
  {
   "cell_type": "markdown",
   "metadata": {},
   "source": [
    "### Predict the Sign Type for Each Image"
   ]
  },
  {
   "cell_type": "code",
   "execution_count": null,
   "metadata": {},
   "outputs": [],
   "source": [
    "### Run the predictions here and use the model to output the prediction for each image.\n",
    "### Make sure to pre-process the images with the same pre-processing pipeline used earlier.\n",
    "### Feel free to use as many code cells as needed.\n",
    "# Test new data\n",
    "with tf.Session() as sess:\n",
    "    sess.run(tf.global_variables_initializer()) # Initialize the globl variables\n",
    "    saver.restore(sess, \"./net\")\n",
    "    print(\"Model restored.\")\n",
    "    res = sess.run(logits, feed_dict={x:X_test_new})\n",
    "    predictions = np.zeros((res.shape[0]))\n",
    "    for i in range(res.shape[0]):\n",
    "        predictions[i] = np.argmax(res[i,:])\n",
    "        \n",
    "print(predictions)\n",
    "print(y_test_new)\n",
    "print('Accuracy of new images: {}'.format(np.mean(predictions==y_test_new)))"
   ]
  },
  {
   "cell_type": "markdown",
   "metadata": {},
   "source": [
    "### Analyze Performance"
   ]
  },
  {
   "cell_type": "code",
   "execution_count": null,
   "metadata": {},
   "outputs": [],
   "source": [
    "### Calculate the accuracy for these 5 new images. \n",
    "### For example, if the model predicted 1 out of 5 signs correctly, it's 20% accurate on these new images."
   ]
  },
  {
   "cell_type": "markdown",
   "metadata": {},
   "source": [
    "### Output Top 5 Softmax Probabilities For Each Image Found on the Web"
   ]
  },
  {
   "cell_type": "markdown",
   "metadata": {},
   "source": [
    "For each of the new images, print out the model's softmax probabilities to show the **certainty** of the model's predictions (limit the output to the top 5 probabilities for each image). [`tf.nn.top_k`](https://www.tensorflow.org/versions/r0.12/api_docs/python/nn.html#top_k) could prove helpful here. \n",
    "\n",
    "The example below demonstrates how tf.nn.top_k can be used to find the top k predictions for each image.\n",
    "\n",
    "`tf.nn.top_k` will return the values and indices (class ids) of the top k predictions. So if k=3, for each sign, it'll return the 3 largest probabilities (out of a possible 43) and the correspoding class ids.\n",
    "\n",
    "Take this numpy array as an example. The values in the array represent predictions. The array contains softmax probabilities for five candidate images with six possible classes. `tf.nn.top_k` is used to choose the three classes with the highest probability:\n",
    "\n",
    "```\n",
    "# (5, 6) array\n",
    "a = np.array([[ 0.24879643,  0.07032244,  0.12641572,  0.34763842,  0.07893497,\n",
    "         0.12789202],\n",
    "       [ 0.28086119,  0.27569815,  0.08594638,  0.0178669 ,  0.18063401,\n",
    "         0.15899337],\n",
    "       [ 0.26076848,  0.23664738,  0.08020603,  0.07001922,  0.1134371 ,\n",
    "         0.23892179],\n",
    "       [ 0.11943333,  0.29198961,  0.02605103,  0.26234032,  0.1351348 ,\n",
    "         0.16505091],\n",
    "       [ 0.09561176,  0.34396535,  0.0643941 ,  0.16240774,  0.24206137,\n",
    "         0.09155967]])\n",
    "```\n",
    "\n",
    "Running it through `sess.run(tf.nn.top_k(tf.constant(a), k=3))` produces:\n",
    "\n",
    "```\n",
    "TopKV2(values=array([[ 0.34763842,  0.24879643,  0.12789202],\n",
    "       [ 0.28086119,  0.27569815,  0.18063401],\n",
    "       [ 0.26076848,  0.23892179,  0.23664738],\n",
    "       [ 0.29198961,  0.26234032,  0.16505091],\n",
    "       [ 0.34396535,  0.24206137,  0.16240774]]), indices=array([[3, 0, 5],\n",
    "       [0, 1, 4],\n",
    "       [0, 5, 1],\n",
    "       [1, 3, 5],\n",
    "       [1, 4, 3]], dtype=int32))\n",
    "```\n",
    "\n",
    "Looking just at the first row we get `[ 0.34763842,  0.24879643,  0.12789202]`, you can confirm these are the 3 largest probabilities in `a`. You'll also notice `[3, 0, 5]` are the corresponding indices."
   ]
  },
  {
   "cell_type": "code",
   "execution_count": null,
   "metadata": {},
   "outputs": [],
   "source": [
    "### Print out the top five softmax probabilities for the predictions on the German traffic sign images found on the web. \n",
    "### Feel free to use as many code cells as needed.\n",
    "with tf.Session() as sess:\n",
    "    top_5 = sess.run(tf.nn.top_k(tf.constant(res), k=5))\n",
    "    print(top_5)"
   ]
  },
  {
   "cell_type": "markdown",
   "metadata": {},
   "source": [
    "> **Note**: Once you have completed all of the code implementations and successfully answered each question above, you may finalize your work by exporting the iPython Notebook as an HTML document. You can do this by using the menu above and navigating to  \\n\",\n",
    "    \"**File -> Download as -> HTML (.html)**. Include the finished document along with this notebook as your submission."
   ]
  },
  {
   "cell_type": "code",
   "execution_count": null,
   "metadata": {},
   "outputs": [],
   "source": [
    " "
   ]
  }
 ],
 "metadata": {
  "anaconda-cloud": {},
  "kernelspec": {
   "display_name": "Python 3",
   "language": "python",
   "name": "python3"
  },
  "language_info": {
   "codemirror_mode": {
    "name": "ipython",
    "version": 3
   },
   "file_extension": ".py",
   "mimetype": "text/x-python",
   "name": "python",
   "nbconvert_exporter": "python",
   "pygments_lexer": "ipython3",
   "version": "3.5.2"
  },
  "widgets": {
   "state": {},
   "version": "1.1.2"
  }
 },
 "nbformat": 4,
 "nbformat_minor": 1
}
